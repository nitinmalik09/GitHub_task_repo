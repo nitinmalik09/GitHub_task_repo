{
 "cells": [
  {
   "cell_type": "code",
   "execution_count": null,
   "id": "519f2a6b-a049-4ddb-bfb4-6d7205d7ae8a",
   "metadata": {},
   "outputs": [],
   "source": [
    "import os\n",
    "import requests\n",
    "import re\n",
    "from bs4 import BeautifulSoup "
   ]
  },
  {
   "cell_type": "markdown",
   "id": "f6af7d41-cb36-4db5-a5ce-66bc5e7e27a3",
   "metadata": {},
   "source": [
    "### Function to Get HTML of the Medium Article\n",
    "The `get_page` function prompts the user to enter a Medium article URL. It validates the URL and fetches the HTML content of the article using the `requests` library.\n"
   ]
  },
  {
   "cell_type": "code",
   "execution_count": null,
   "id": "b3146d90-9f5e-440d-b4a1-1995f13fb2be",
   "metadata": {},
   "outputs": [],
   "source": [
    "def get_page():\n",
    "    global url\n",
    "\n",
    "    # Code here - Ask the user to input \"Enter url of a medium article: \" and collect it in url\n",
    "    url = input(\"Enter url of a medium article: \")\n",
    "    # Code ends here\n",
    "\n",
    "    # handling possible error\n",
    "    if not re.match(r'https?://medium.com/', url):\n",
    "        print('Please enter a valid website, or make sure it is a medium article')\n",
    "        sys.exit(1)\n",
    "\n",
    "    # Code here - Call get method in requests object, pass url and collect it in res\n",
    "    res = requests.get(url)\n",
    "    # Code ends here\n",
    "\n",
    "    res.raise_for_status()  # raises an error for invalid HTTP status\n",
    "    soup = BeautifulSoup(res.text, 'html.parser')\n",
    "    return soup"
   ]
  },
  {
   "cell_type": "markdown",
   "id": "2cf88b1f-ab2c-4149-ab2d-08d2d903db72",
   "metadata": {},
   "source": [
    "### Function to Clean the Extracted HTML Text\n",
    "The `clean` function removes all HTML tags from the fetched content and replaces certain tags (like `<br>` and `<li>`) with specific characters.\n"
   ]
  },
  {
   "cell_type": "code",
   "execution_count": null,
   "id": "8130b1cc-7cc6-43d3-9986-eea9388519f9",
   "metadata": {},
   "outputs": [],
   "source": [
    "def clean(text):\n",
    "    rep = {\"<br>\": \"\\n\", \"<br/>\": \"\\n\", \"<li>\": \"\\n\"}\n",
    "    rep = dict((re.escape(k), v) for k, v in rep.items())\n",
    "    pattern = re.compile(\"|\".join(rep.keys()))\n",
    "    text = pattern.sub(lambda m: rep[re.escape(m.group(0))], text)\n",
    "    text = re.sub('\\<(.*?)\\>', '', text)\n",
    "    return text"
   ]
  },
  {
   "cell_type": "markdown",
   "id": "57e48d63-3852-48cf-960e-d63128758fa3",
   "metadata": {},
   "source": [
    "### Function to Collect Text from the Article\n",
    "The `collect_text` function extracts the paragraphs (`<p>` tags) from the Medium article and appends them to a text variable.\n"
   ]
  },
  {
   "cell_type": "code",
   "execution_count": null,
   "id": "a7c650c6-f0df-45d0-b47a-1c851b60ad95",
   "metadata": {},
   "outputs": [],
   "source": [
    "def collect_text(soup):\n",
    "    text = f'url: {url}\\n\\n'\n",
    "    para_text = soup.find_all('p')\n",
    "    print(f\"paragraphs text = \\n {para_text}\")\n",
    "    for para in para_text:\n",
    "        text += f\"{para.text}\\n\\n\"\n",
    "    return text"
   ]
  },
  {
   "cell_type": "markdown",
   "id": "7705a873-5add-494a-ab42-5b398e883a47",
   "metadata": {},
   "source": [
    "### Function to Save the Extracted Text to a File\n",
    "The `save_file` function saves the scraped content into a text file in a directory named `scraped_articles`.\n"
   ]
  },
  {
   "cell_type": "code",
   "execution_count": null,
   "id": "0d1a30dc-0f80-4044-9e2e-145a3582f9f2",
   "metadata": {},
   "outputs": [],
   "source": [
    "def save_file(text):\n",
    "    if not os.path.exists('./scraped_articles'):\n",
    "        os.mkdir('./scraped_articles')\n",
    "    name = url.split(\"/\")[-1]\n",
    "    print(name)\n",
    "    fname = f'scraped_articles/{name}.txt'\n",
    "\n",
    "    # Code here - write a file using with (2 lines)\n",
    "    with open(fname, 'w', encoding='utf-8') as file:\n",
    "        file.write(text)\n",
    "    # Code ends here\n",
    "\n",
    "    print(f'File saved in directory {fname}')\n"
   ]
  },
  {
   "cell_type": "markdown",
   "id": "c4cd2d7d-6777-42e6-8705-c881ce8f95ca",
   "metadata": {},
   "source": [
    "### Instructions to Run the Script\n",
    "To run the script, execute the code in the following cell, and enter a valid Medium article URL when prompted.\n",
    "- Example URL: `https://medium.com/@subashgandyer/papa-what-is-a-neural-network-c5e5cc427c7`\n"
   ]
  },
  {
   "cell_type": "code",
   "execution_count": null,
   "id": "45670698-b6b3-43c2-94e9-6a0e94f36163",
   "metadata": {},
   "outputs": [],
   "source": [
    "if __name__ == '__main__':\n",
    "    text = collect_text(get_page())\n",
    "    save_file(text)"
   ]
  },
  {
   "cell_type": "markdown",
   "id": "a8ba2af8-0c13-4939-a7c2-4f723e001013",
   "metadata": {},
   "source": [
    "### Conclusion\n",
    "This notebook demonstrates how to scrape a Medium article and save the extracted text to a file. The extracted content is stored in a directory called `scraped_articles`.\n"
   ]
  }
 ],
 "metadata": {
  "kernelspec": {
   "display_name": "Python 3 (ipykernel)",
   "language": "python",
   "name": "python3"
  },
  "language_info": {
   "codemirror_mode": {
    "name": "ipython",
    "version": 3
   },
   "file_extension": ".py",
   "mimetype": "text/x-python",
   "name": "python",
   "nbconvert_exporter": "python",
   "pygments_lexer": "ipython3",
   "version": "3.12.4"
  }
 },
 "nbformat": 4,
 "nbformat_minor": 5
}
